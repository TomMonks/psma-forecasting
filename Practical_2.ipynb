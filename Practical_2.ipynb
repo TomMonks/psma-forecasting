{
 "cells": [
  {
   "cell_type": "markdown",
   "metadata": {},
   "source": [
    "# Practical 2.  Baseline Models\n",
    "\n",
    "In this practical will apply our knowledge in\n",
    "\n",
    "* Creating baseline forecasts\n",
    "* Performing a train-test split\n",
    "* Using forecast error metrics MAE and MAPE to select the best method "
   ]
  },
  {
   "cell_type": "code",
   "execution_count": null,
   "metadata": {},
   "outputs": [],
   "source": [
    "import pandas as pd\n",
    "import numpy as np\n",
    "import matplotlib.pyplot as plt\n",
    "\n",
    "from sklearn.metrics import mean_absolute_error"
   ]
  },
  {
   "cell_type": "code",
   "execution_count": null,
   "metadata": {},
   "outputs": [],
   "source": [
    "#baseline forecast methods\n",
    "from forecast.baseline import (Naive1, \n",
    "                               SNaive,\n",
    "                               Drift,\n",
    "                               Average,\n",
    "                               baseline_estimators)\n",
    "\n",
    "from forecast.metrics import mean_absolute_percentage_error"
   ]
  },
  {
   "cell_type": "code",
   "execution_count": null,
   "metadata": {},
   "outputs": [],
   "source": [
    "#helper functions\n",
    "def preds_as_series(data, preds):\n",
    "    '''\n",
    "    Helper function for plotting predictions.\n",
    "    Converts a numpy array of predictions to a \n",
    "    pandas.DataFrame with datetimeindex\n",
    "    \n",
    "    Parameters\n",
    "    -----\n",
    "    data - arraylike - the training data\n",
    "    preds - numpy.array, vector of predictions \n",
    "    '''\n",
    "    start = pd.date_range(start=data.index.max(), periods=2, freq=data.index.freq).max()\n",
    "    idx = pd.date_range(start=start, periods=len(preds), freq=data.index.freq)\n",
    "    return pd.DataFrame(preds, index=idx)"
   ]
  },
  {
   "cell_type": "markdown",
   "metadata": {},
   "source": [
    "## Exercise 1: Using Naive1 to forecast Nile River Flow"
   ]
  },
  {
   "cell_type": "markdown",
   "metadata": {},
   "source": [
    "**Step 1: Import Nile river flow data.**  \n",
    "\n",
    "This can be found in **\"data/nile.csv\"**\n",
    "\n",
    "* Hint: this is yearly data.  You can use the Annual Start ('AS') frequency"
   ]
  },
  {
   "cell_type": "code",
   "execution_count": null,
   "metadata": {},
   "outputs": [],
   "source": [
    "#your code here"
   ]
  },
  {
   "cell_type": "markdown",
   "metadata": {},
   "source": [
    "**Step 2 Plot the Nile data**"
   ]
  },
  {
   "cell_type": "code",
   "execution_count": null,
   "metadata": {},
   "outputs": [],
   "source": [
    "#your code here"
   ]
  },
  {
   "cell_type": "markdown",
   "metadata": {},
   "source": [
    "**Step 3: Create and fit Naive1 forecast model**\n",
    "\n",
    "* Hint: you want to fit `nile['flow']`"
   ]
  },
  {
   "cell_type": "code",
   "execution_count": null,
   "metadata": {},
   "outputs": [],
   "source": [
    "#your code here"
   ]
  },
  {
   "cell_type": "markdown",
   "metadata": {},
   "source": [
    "**Step 4: Plot the Naive1 fitted values**\n",
    "\n",
    "All the baseline models have fitted values.  These are the in-sample prediction i.e. the predictions of the training data.\n",
    "\n",
    "Once you have created and fitted a Naive1 model you can access the fitted values using the `.fittedvalues` property.  This returns a `DataFrame`.\n",
    "\n",
    "Plot the fitted values against the observed data."
   ]
  },
  {
   "cell_type": "code",
   "execution_count": null,
   "metadata": {},
   "outputs": [],
   "source": [
    "#your code here"
   ]
  },
  {
   "cell_type": "markdown",
   "metadata": {},
   "source": [
    "**Step 5: Forecast the next 5 years**\n",
    "\n",
    "After you have created a forecast plot the predictions.  \n",
    "\n",
    "* Hint: use the `pred_as_series()` method to plot the predictions.  See the lecture notes for exampes of how to use it."
   ]
  },
  {
   "cell_type": "code",
   "execution_count": null,
   "metadata": {},
   "outputs": [],
   "source": [
    "#your code here"
   ]
  },
  {
   "cell_type": "markdown",
   "metadata": {},
   "source": [
    "## Exercise 2. Choose the best baseline forecast method for ED reattendances"
   ]
  },
  {
   "cell_type": "markdown",
   "metadata": {},
   "source": [
    "**Step 1: Import emergency department reattendance data.**  \n",
    "\n",
    "This is a time series from a hospital that measures the number of patients per month that have reattended an ED within 7 days of a previous attendance.\n",
    "\n",
    "This can be found in **\"data/ed_reattend.csv\"** \n",
    "\n",
    "* Hint 1: The format of the 'date' column is in UK standard dd/mm/yyyy.  You will need to set the `dayfirst=True` of `pd.read_csv()` to make sure pandas interprets the dates correctly.\n",
    "\n",
    "* Hint 2: The data is monthly and the dates are all the first day of the month.  This is called monthly start and its shorthand is 'MS'"
   ]
  },
  {
   "cell_type": "code",
   "execution_count": null,
   "metadata": {},
   "outputs": [],
   "source": [
    "#your code here"
   ]
  },
  {
   "cell_type": "markdown",
   "metadata": {},
   "source": [
    "**Step 2: Perform a calender adjustment**"
   ]
  },
  {
   "cell_type": "code",
   "execution_count": null,
   "metadata": {},
   "outputs": [],
   "source": [
    "#your code here"
   ]
  },
  {
   "cell_type": "markdown",
   "metadata": {},
   "source": [
    "**Step 3: Perform a train-test split**\n",
    "\n",
    "Create a train test split where you holdback the final 6 months of the data.\n",
    "\n",
    "Remember to work with the calender adjusted data."
   ]
  },
  {
   "cell_type": "code",
   "execution_count": null,
   "metadata": {},
   "outputs": [],
   "source": [
    "#your code here"
   ]
  },
  {
   "cell_type": "markdown",
   "metadata": {},
   "source": [
    "**Step 4: Plot the TRAINING data**\n",
    "\n",
    "Remember don't look at the test data just yet.  You don't want to bias your model selection process."
   ]
  },
  {
   "cell_type": "code",
   "execution_count": null,
   "metadata": {},
   "outputs": [],
   "source": [
    "#your code here"
   ]
  },
  {
   "cell_type": "markdown",
   "metadata": {},
   "source": [
    "**Step 5: Create and fit Naive1, SNaive, Average, Drift and Ensemble baseline models**\n",
    "\n",
    "* Hint: remember that the `baseline_estimators()` function will create all of these objects for you and return them in a dict.  \n",
    "\n",
    "* Hint: Fit the TRAINING data."
   ]
  },
  {
   "cell_type": "code",
   "execution_count": null,
   "metadata": {},
   "outputs": [],
   "source": [
    "#your code here"
   ]
  },
  {
   "cell_type": "markdown",
   "metadata": {},
   "source": [
    "**Step 6: Use each model to predict 6 months ahead**\n",
    "\n",
    "* Hint.  You need to store the prediction results so that later on you can calculate the forecast error."
   ]
  },
  {
   "cell_type": "code",
   "execution_count": null,
   "metadata": {},
   "outputs": [],
   "source": [
    "#your code here"
   ]
  },
  {
   "cell_type": "markdown",
   "metadata": {},
   "source": [
    "**Step 7: Calculate the mean absolute error of each forecast method**\n",
    "    \n",
    "Based on the results which method would you choose?"
   ]
  },
  {
   "cell_type": "code",
   "execution_count": null,
   "metadata": {},
   "outputs": [],
   "source": [
    "#your code here"
   ]
  },
  {
   "cell_type": "markdown",
   "metadata": {},
   "source": [
    "**Step 8: Calculate the out of sample MAPE of each forecast method**\n",
    "    \n",
    "Would you still choose the same forecasting method?\n",
    "\n",
    "Is it useful to calculate both metrics?"
   ]
  },
  {
   "cell_type": "code",
   "execution_count": null,
   "metadata": {},
   "outputs": [],
   "source": [
    "#your code here"
   ]
  }
 ],
 "metadata": {
  "kernelspec": {
   "display_name": "Python 3",
   "language": "python",
   "name": "python3"
  },
  "language_info": {
   "codemirror_mode": {
    "name": "ipython",
    "version": 3
   },
   "file_extension": ".py",
   "mimetype": "text/x-python",
   "name": "python",
   "nbconvert_exporter": "python",
   "pygments_lexer": "ipython3",
   "version": "3.7.3"
  }
 },
 "nbformat": 4,
 "nbformat_minor": 4
}
