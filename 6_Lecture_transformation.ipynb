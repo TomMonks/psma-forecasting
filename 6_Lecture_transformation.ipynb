{
 "cells": [
  {
   "cell_type": "markdown",
   "metadata": {},
   "source": [
    "# Transforming Time Series Data\n",
    "\n",
    "**In this lecture you will learn how to:**\n",
    "\n",
    "* Apply a log transform to a time series in order to make it easier to forecast."
   ]
  },
  {
   "cell_type": "code",
   "execution_count": null,
   "metadata": {},
   "outputs": [],
   "source": [
    "import pandas as pd\n",
    "import numpy as np\n",
    "import matplotlib.pyplot as plt"
   ]
  },
  {
   "cell_type": "markdown",
   "metadata": {},
   "source": [
    "## Recap: Calender Adjustments\n",
    "\n",
    "We have already met one type of transformation: **the calender adjustment**\n",
    "\n",
    "We did this in order to remove some of the noise from the time series, due different number of days in in each month.  Removing this noise makes it an easier forecasting problem."
   ]
  },
  {
   "cell_type": "code",
   "execution_count": null,
   "metadata": {},
   "outputs": [],
   "source": [
    "sales = pd.read_csv('data/Alcohol_Sales.csv', index_col='DATE', parse_dates=True)\n",
    "sales.index.freq = 'MS'"
   ]
  },
  {
   "cell_type": "code",
   "execution_count": null,
   "metadata": {},
   "outputs": [],
   "source": [
    "sales.plot(figsize=(12,4))"
   ]
  },
  {
   "cell_type": "code",
   "execution_count": null,
   "metadata": {},
   "outputs": [],
   "source": [
    "sales.index.days_in_month"
   ]
  },
  {
   "cell_type": "code",
   "execution_count": null,
   "metadata": {},
   "outputs": [],
   "source": [
    "sales_rate = sales['sales'] / sales.index.days_in_month"
   ]
  },
  {
   "cell_type": "code",
   "execution_count": null,
   "metadata": {},
   "outputs": [],
   "source": [
    "sales_rate.head(5)"
   ]
  },
  {
   "cell_type": "markdown",
   "metadata": {},
   "source": [
    "### Backtransforming a calender adjustment\n",
    "\n",
    "After you have produced a forecast on the transformed data you are likely to need to back-transform to its original units.  This is straightforward for calender adjustments.  Just reverse the operation."
   ]
  },
  {
   "cell_type": "code",
   "execution_count": null,
   "metadata": {},
   "outputs": [],
   "source": [
    "sales_rate * sales_rate.index.days_in_month"
   ]
  },
  {
   "cell_type": "markdown",
   "metadata": {},
   "source": [
    "## Dealing with increasing variance.\n",
    "\n",
    "One property of seasonal time series with trend is that the seasonal peaks and troughs increase with the level of the series. This property can negatively impact the accuracy of forecasts.  An example of increasing variance is illustrated by the Alcohol Sales data below.  The orange line is a 12 month moving average.  You can see that as the level increases the fluctuations either side of the mean increase."
   ]
  },
  {
   "cell_type": "code",
   "execution_count": null,
   "metadata": {},
   "outputs": [],
   "source": [
    "ma = sales_rate.rolling(window=12).mean()\n",
    "ax = sales_rate.plot(figsize=(12,4), label='mean sales per day')\n",
    "ma.plot(ax=ax, label='MA_12')\n",
    "ax.legend()"
   ]
  },
  {
   "cell_type": "markdown",
   "metadata": {},
   "source": [
    "### Taking the natural logarithm stabilises variance "
   ]
  },
  {
   "cell_type": "code",
   "execution_count": null,
   "metadata": {},
   "outputs": [],
   "source": [
    "log_sales = np.log(sales_rate)"
   ]
  },
  {
   "cell_type": "code",
   "execution_count": null,
   "metadata": {},
   "outputs": [],
   "source": [
    "ma = log_sales.rolling(window=12).mean()\n",
    "ax = log_sales.plot(figsize=(12,4), label='log sales')\n",
    "ma.plot(ax=ax, label='MA_12')\n",
    "ax.legend()"
   ]
  },
  {
   "cell_type": "markdown",
   "metadata": {},
   "source": [
    "#### Backtransforming logged data\n",
    "\n",
    "This is straightforward with `NumPy`.  We simply need to exponentiate the data using the function `np.exp()`"
   ]
  },
  {
   "cell_type": "code",
   "execution_count": null,
   "metadata": {},
   "outputs": [],
   "source": [
    "np.exp(log_sales)"
   ]
  },
  {
   "cell_type": "markdown",
   "metadata": {},
   "source": [
    "### Power Transformations\n",
    "\n",
    "As an alterantive to taking the logarithm of the data is to take the cube root or square root."
   ]
  },
  {
   "cell_type": "code",
   "execution_count": null,
   "metadata": {},
   "outputs": [],
   "source": [
    "cbrt_sales = np.cbrt(sales_rate)"
   ]
  },
  {
   "cell_type": "code",
   "execution_count": null,
   "metadata": {},
   "outputs": [],
   "source": [
    "cbrt_sales.plot(figsize=(12,4))"
   ]
  },
  {
   "cell_type": "code",
   "execution_count": null,
   "metadata": {},
   "outputs": [],
   "source": [
    "sqrt_sales = np.sqrt(sales_rate)\n",
    "sqrt_sales.plot(figsize=(12,4))"
   ]
  },
  {
   "cell_type": "code",
   "execution_count": null,
   "metadata": {},
   "outputs": [],
   "source": [
    "ax = log_sales.plot(figsize=(12,4), label='log')\n",
    "cbrt_sales.plot(ax=ax, label='cbrt')\n",
    "ax.legend()"
   ]
  },
  {
   "cell_type": "code",
   "execution_count": null,
   "metadata": {},
   "outputs": [],
   "source": []
  }
 ],
 "metadata": {
  "kernelspec": {
   "display_name": "Python 3",
   "language": "python",
   "name": "python3"
  },
  "language_info": {
   "codemirror_mode": {
    "name": "ipython",
    "version": 3
   },
   "file_extension": ".py",
   "mimetype": "text/x-python",
   "name": "python",
   "nbconvert_exporter": "python",
   "pygments_lexer": "ipython3",
   "version": "3.7.3"
  }
 },
 "nbformat": 4,
 "nbformat_minor": 4
}
