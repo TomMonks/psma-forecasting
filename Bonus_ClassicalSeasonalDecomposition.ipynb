{
 "cells": [
  {
   "cell_type": "markdown",
   "metadata": {},
   "source": [
    "# Bonus Lecture.  \n",
    "\n",
    "## Classical Seasonal Decomposition\n",
    "\n",
    "In this notebook you will learn how to:\n",
    "\n",
    "* Manually use additive and seasonal decomposition i.e. **without** using `statsmodels`\n",
    "* Seasonally adjust your time series to remove seasonal fluctuations."
   ]
  },
  {
   "cell_type": "code",
   "execution_count": null,
   "metadata": {},
   "outputs": [],
   "source": [
    "import pandas as pd\n",
    "import numpy as np\n",
    "import matplotlib.pyplot as plt"
   ]
  },
  {
   "cell_type": "markdown",
   "metadata": {},
   "source": [
    "## The ED arrivals dataset.\n",
    "\n",
    "The dataset we will use represent monthly adult (age > 18) arrivals to an Emergency Department.  The observations are between April 2009 and May 2017. "
   ]
  },
  {
   "cell_type": "code",
   "execution_count": null,
   "metadata": {},
   "outputs": [],
   "source": [
    "ed_month = pd.read_csv('data/ed_mth_ts.csv', index_col='date', parse_dates=True)\n",
    "ed_month.index.freq = 'MS'\n",
    "\n",
    "arrival_rate = ed_month['arrivals'] / ed_month.index.days_in_month"
   ]
  },
  {
   "cell_type": "markdown",
   "metadata": {},
   "source": [
    "The first thing you should do when exploring a time series is check its length and duration."
   ]
  },
  {
   "cell_type": "code",
   "execution_count": null,
   "metadata": {},
   "outputs": [],
   "source": [
    "#This tells us how many months are in the ts\n",
    "arrival_rate.shape "
   ]
  },
  {
   "cell_type": "markdown",
   "metadata": {},
   "source": [
    "### Breaking a times series up into its trend and seasonal components.\n",
    "\n",
    "To help visualise and understand trend and seasonality in a time series we can use seasonal decomposition.\n",
    "\n",
    "This is a model based approach that breaks the time series into three components.  The basic approach to seasonal decomposition has two forms: additive and multiplicative.  \n",
    "\n",
    "#### Additive decomposition\n",
    "\n",
    "If we assume that an observation at time t $Y_t$ is the additive sum of trend $T_t$, seasonality $S_t$ and random error $E_t$.  then we have the following model.\n",
    "\n",
    "$Y_t = T_t + S_t + E_t$\n",
    "\n",
    "We then to make this assumption when the seasonal fluctuations are constant across the time series.  This looks like a reasonable assumption in the case of the ED data.\n",
    "\n",
    "#### Multiplicative decomposition\n",
    "\n",
    "If the seasonal fluctuations of the data grow over time then it is best to a multiplicative model. Where an observation at time t $Y_t$ is the product of multiply the trend $T_t$, seasonality $S_t$ and random error $E_t$\n",
    "\n",
    "$Y_t = T_t \\cdot  S_t \\cdot  E_t$"
   ]
  },
  {
   "cell_type": "markdown",
   "metadata": {},
   "source": [
    "## Manually performing a seasonal decomposition"
   ]
  },
  {
   "cell_type": "markdown",
   "metadata": {},
   "source": [
    "Classical decomposition is straightfoward to implement.  We will work with additive seasonality first.\n",
    "\n",
    "### **Additive Seasonality**\n",
    "\n",
    "**Step 1: Estimate the trend component**\n",
    "\n",
    "The first thing to do is estimate the trend in the time series.  We do this using a 12 month centered moving average."
   ]
  },
  {
   "cell_type": "code",
   "execution_count": null,
   "metadata": {},
   "outputs": [],
   "source": [
    "decomp = pd.DataFrame(arrival_rate)\n",
    "decomp.columns = ['actual']"
   ]
  },
  {
   "cell_type": "code",
   "execution_count": null,
   "metadata": {},
   "outputs": [],
   "source": [
    "decomp['trend'] = arrival_rate.rolling(window=12, center=True).mean()"
   ]
  },
  {
   "cell_type": "code",
   "execution_count": null,
   "metadata": {},
   "outputs": [],
   "source": [
    "ax = decomp.trend.plot(figsize=(12,4))\n",
    "arrival_rate.plot(ax=ax)"
   ]
  },
  {
   "cell_type": "markdown",
   "metadata": {},
   "source": [
    "**Step 2: Detrend the series**\n",
    "\n",
    "We first need to **de-trend** the time series.  In the additive model we do this by **subtracting** the trend from the actual observations of the time series.\n",
    "\n",
    "$Y_t - T_t = S_t + E_t$"
   ]
  },
  {
   "cell_type": "code",
   "execution_count": null,
   "metadata": {},
   "outputs": [],
   "source": [
    "detrended = decomp['actual'] - decomp['trend']"
   ]
  },
  {
   "cell_type": "markdown",
   "metadata": {},
   "source": [
    "When we plot this notice that the upward trend of the data has been removed."
   ]
  },
  {
   "cell_type": "code",
   "execution_count": null,
   "metadata": {},
   "outputs": [],
   "source": [
    "detrended.plot(figsize=(12,4))"
   ]
  },
  {
   "cell_type": "markdown",
   "metadata": {},
   "source": [
    "**Step 3: Calculate the seasonal indicies**\n",
    "\n",
    "Classic decomposition assumes that seasonality is constant year to year.  This means we only need to calculate one value for each month of the year.\n",
    "\n",
    "We work with the detrended series. To calculate the seasonal indicies we group by month and take the average of the detrended series.  This is easy in pandas with a group by operation."
   ]
  },
  {
   "cell_type": "code",
   "execution_count": null,
   "metadata": {},
   "outputs": [],
   "source": [
    "seasonal_indexes = detrended.groupby(by=detrended.index.month).mean()"
   ]
  },
  {
   "cell_type": "code",
   "execution_count": null,
   "metadata": {},
   "outputs": [],
   "source": [
    "seasonal_indexes.plot(figsize=(12,4))"
   ]
  },
  {
   "cell_type": "markdown",
   "metadata": {},
   "source": [
    "We then want to **map** the seasonal indicies to the rows in the time series.  "
   ]
  },
  {
   "cell_type": "code",
   "execution_count": null,
   "metadata": {},
   "outputs": [],
   "source": [
    "decomp['seasonal'] = decomp.index.month.map(seasonal_indexes)"
   ]
  },
  {
   "cell_type": "code",
   "execution_count": null,
   "metadata": {},
   "outputs": [],
   "source": [
    "decomp.head(10)"
   ]
  },
  {
   "cell_type": "markdown",
   "metadata": {},
   "source": [
    "**Step 4: Calculate the remainder**\n",
    "\n",
    "The irregular component $E_t$ is calculated by subtracting the trend and seasonal components from the actual.\n",
    "\n",
    "$E_t = Y_t - T_t - S_t$"
   ]
  },
  {
   "cell_type": "code",
   "execution_count": null,
   "metadata": {},
   "outputs": [],
   "source": [
    "decomp['resid'] = decomp['actual'] - decomp['trend'] - decomp['seasonal']"
   ]
  },
  {
   "cell_type": "markdown",
   "metadata": {},
   "source": [
    "## Seasonal Decomposition Plot"
   ]
  },
  {
   "cell_type": "code",
   "execution_count": null,
   "metadata": {},
   "outputs": [],
   "source": [
    "fig, axes = plt.subplots(4, 1, sharex=True, figsize=(12,9))\n",
    "axes[0].plot(decomp['actual'])\n",
    "axes[1].plot(decomp['trend'])\n",
    "axes[2].plot(decomp['seasonal'])\n",
    "axes[3].plot(decomp['resid'])\n",
    "\n",
    "axes[0].set_ylabel('actual')\n",
    "axes[1].set_ylabel('trend-cycle')\n",
    "axes[2].set_ylabel('seasonal')\n",
    "axes[3].set_ylabel('remainder')"
   ]
  },
  {
   "cell_type": "markdown",
   "metadata": {},
   "source": [
    "## Seasonal Adjustment: A side product of decomposition\n",
    "\n",
    "$Y_t - S_t = T_t + E_t$\n",
    "\n",
    "Many economic time series are publishing using a seasonally adjusted data.  This is achieved by subtrack the seasonal indicies from the observerd time series."
   ]
  },
  {
   "cell_type": "code",
   "execution_count": null,
   "metadata": {},
   "outputs": [],
   "source": [
    "seasonal_adj = decomp['actual'] - decomp['seasonal']"
   ]
  },
  {
   "cell_type": "code",
   "execution_count": null,
   "metadata": {},
   "outputs": [],
   "source": [
    "fig, axes = plt.subplots(2, 1, sharex=True, figsize=(12,8))\n",
    "axes[0].plot(arrival_rate)\n",
    "axes[1].plot(seasonal_adj)"
   ]
  },
  {
   "cell_type": "markdown",
   "metadata": {},
   "source": [
    "## Multiplicative Seasonality"
   ]
  },
  {
   "cell_type": "code",
   "execution_count": null,
   "metadata": {},
   "outputs": [],
   "source": [
    "sales = pd.read_csv('data/Alcohol_Sales.csv', index_col='DATE', parse_dates=True)\n",
    "sales.index.freq = 'MS'\n",
    "sales_rate = sales['sales'] / sales.index.days_in_month"
   ]
  },
  {
   "cell_type": "code",
   "execution_count": null,
   "metadata": {},
   "outputs": [],
   "source": [
    "sales_rate.plot(figsize=(12,4))"
   ]
  },
  {
   "cell_type": "markdown",
   "metadata": {},
   "source": [
    "**Step 1: Estimate the trend component**\n",
    "\n",
    "As before we will do this using a 12 month 'centered' moving average."
   ]
  },
  {
   "cell_type": "code",
   "execution_count": null,
   "metadata": {},
   "outputs": [],
   "source": [
    "decomp = pd.DataFrame(sales_rate)\n",
    "decomp.columns = ['actual']"
   ]
  },
  {
   "cell_type": "code",
   "execution_count": null,
   "metadata": {},
   "outputs": [],
   "source": [
    "decomp['trend'] = sales_rate.rolling(window=12, center=True).mean()"
   ]
  },
  {
   "cell_type": "code",
   "execution_count": null,
   "metadata": {},
   "outputs": [],
   "source": [
    "ax = decomp.trend.plot(figsize=(12,4))\n",
    "sales_rate.plot(ax=ax)"
   ]
  },
  {
   "cell_type": "markdown",
   "metadata": {},
   "source": [
    "**Step 2: Detrend the series**\n",
    "\n",
    "We first need to **de-trend** the time series.  In the additive model we do this by **dividing** the trend from the actual observations of the time series.\n",
    "\n",
    "$Y_t = T_t \\cdot  S_t \\cdot  E_t$"
   ]
  },
  {
   "cell_type": "code",
   "execution_count": null,
   "metadata": {},
   "outputs": [],
   "source": [
    "detrended = decomp['actual'] / decomp['trend']"
   ]
  },
  {
   "cell_type": "code",
   "execution_count": null,
   "metadata": {},
   "outputs": [],
   "source": [
    "detrended.plot(figsize=(12,4))"
   ]
  },
  {
   "cell_type": "markdown",
   "metadata": {},
   "source": [
    "**Step 3: Calculate the seasonal indicies**\n",
    "\n",
    "We again work with the detrended series. To calculate the seasonal indicies we group by month and take the average of the detrended series. Note that the indicies are now proportion above and below the mean level of the series."
   ]
  },
  {
   "cell_type": "code",
   "execution_count": null,
   "metadata": {},
   "outputs": [],
   "source": [
    "seasonal_indexes = detrended.groupby(by=detrended.index.month).mean()"
   ]
  },
  {
   "cell_type": "code",
   "execution_count": null,
   "metadata": {},
   "outputs": [],
   "source": [
    "seasonal_indexes.plot(figsize=(12,4))"
   ]
  },
  {
   "cell_type": "markdown",
   "metadata": {},
   "source": [
    "We then want to **map** the seasonal indicies to the rows in the time series. "
   ]
  },
  {
   "cell_type": "code",
   "execution_count": null,
   "metadata": {},
   "outputs": [],
   "source": [
    "decomp['seasonal'] = decomp.index.month.map(seasonal_indexes)"
   ]
  },
  {
   "cell_type": "code",
   "execution_count": null,
   "metadata": {},
   "outputs": [],
   "source": [
    "decomp.head(10)"
   ]
  },
  {
   "cell_type": "markdown",
   "metadata": {},
   "source": [
    "**Step 4: Calculate the remainder**\n",
    "\n",
    "The irregular component $E_t$ is calculated by dividing by the trend and seasonal components from the actual.\n",
    "\n",
    "$E_t = \\frac{Y_t}{T_t S_t}$"
   ]
  },
  {
   "cell_type": "code",
   "execution_count": null,
   "metadata": {},
   "outputs": [],
   "source": [
    "decomp['resid'] = decomp['actual'] / (decomp['trend'] * decomp['seasonal'])"
   ]
  },
  {
   "cell_type": "code",
   "execution_count": null,
   "metadata": {},
   "outputs": [],
   "source": [
    "decomp.head()"
   ]
  },
  {
   "cell_type": "markdown",
   "metadata": {},
   "source": [
    "### Seasonal decomp plot"
   ]
  },
  {
   "cell_type": "code",
   "execution_count": null,
   "metadata": {},
   "outputs": [],
   "source": [
    "fig, axes = plt.subplots(4, 1, sharex=True, figsize=(12,9))\n",
    "axes[0].plot(decomp['actual'])\n",
    "axes[1].plot(decomp['trend'])\n",
    "axes[2].plot(decomp['seasonal'])\n",
    "axes[3].plot(decomp['resid'])\n",
    "\n",
    "axes[0].set_ylabel('actual')\n",
    "axes[1].set_ylabel('trend-cycle')\n",
    "axes[2].set_ylabel('seasonal')\n",
    "axes[3].set_ylabel('remainder')"
   ]
  },
  {
   "cell_type": "markdown",
   "metadata": {},
   "source": [
    "## Seasonal Adjustment.\n",
    "\n",
    "$\\frac{Y_t}{S_t} = T_t \\cdot E_t$\n",
    "\n",
    "Many economic time series are publishing using a seasonally adjusted data.  This is achieved by dividing the observed time series by the seasonal indicies."
   ]
  },
  {
   "cell_type": "code",
   "execution_count": null,
   "metadata": {},
   "outputs": [],
   "source": [
    "seasonal_adj = decomp['actual'] / decomp['seasonal']\n",
    "seasonal_adj.plot(figsize=(12,4))"
   ]
  }
 ],
 "metadata": {
  "kernelspec": {
   "display_name": "Python 3",
   "language": "python",
   "name": "python3"
  },
  "language_info": {
   "codemirror_mode": {
    "name": "ipython",
    "version": 3
   },
   "file_extension": ".py",
   "mimetype": "text/x-python",
   "name": "python",
   "nbconvert_exporter": "python",
   "pygments_lexer": "ipython3",
   "version": "3.7.3"
  }
 },
 "nbformat": 4,
 "nbformat_minor": 4
}
