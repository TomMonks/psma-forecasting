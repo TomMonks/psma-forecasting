{
 "cells": [
  {
   "cell_type": "markdown",
   "metadata": {},
   "source": [
    "# Simple forecasting techniques\n",
    "\n",
    "## The importance of a baseline model\n",
    "\n",
    "In this notebook we will explore some simple forecasting techniques.  Selecting on of these simple techniques should on of your early decisions in a time series forecasting project. Although each represents simple approach to forecasting they are from a family of techniques used for setting a statistical baseline. Before you move onto complex methods make sure you use a baseline.  Any complex model must be better than the baseline to be considered for forecasting.  This is a often a missed step in forecasting where there is a temptation to use complex methods.\n",
    "\n",
    "The methods we will explore are:\n",
    "\n",
    "* Average Forecast\n",
    "* Naive Forecast 1\n",
    "* Seasonal Naive\n",
    "* Naive with Drift"
   ]
  },
  {
   "cell_type": "code",
   "execution_count": null,
   "metadata": {},
   "outputs": [],
   "source": [
    "import pandas as pd\n",
    "import numpy as np\n",
    "import matplotlib.pyplot as plt\n",
    "import matplotlib.dates as mdates\n",
    "import matplotlib.style as style\n",
    "from statsmodels.tsa.seasonal import seasonal_decompose\n",
    "\n",
    "style.use('ggplot')"
   ]
  },
  {
   "cell_type": "code",
   "execution_count": null,
   "metadata": {},
   "outputs": [],
   "source": [
    "def preds_as_series(data, preds):\n",
    "    '''\n",
    "    Helper function for plotting predictions.\n",
    "    Converts a numpy array of predictions to a \n",
    "    pandas.DataFrame with datetimeindex\n",
    "    \n",
    "    Parameters\n",
    "    -----\n",
    "    preds - numpy.array, vector of predictions\n",
    "    start - start date of the time series\n",
    "    freq - the frequency of the time series e.g 'MS' or 'D'\n",
    "    '''\n",
    "    start = pd.date_range(start=data.index.max(), periods=2, freq=data.index.freq).max()\n",
    "    idx = pd.date_range(start=start, periods=len(preds), freq=data.index.freq)\n",
    "    return pd.DataFrame(preds, index=idx)"
   ]
  },
  {
   "cell_type": "markdown",
   "metadata": {},
   "source": [
    "## The ED arrivals dataset.\n",
    "\n",
    "The dataset we will use represent monthly adult (age > 18) arrivals to an Emergency Department.  The observations are between April 2009 and May 2017. Our forecasting task is to predict the next four months."
   ]
  },
  {
   "cell_type": "code",
   "execution_count": null,
   "metadata": {},
   "outputs": [],
   "source": [
    "ed_month = pd.read_csv('data/ed_mth_ts.csv', index_col='date', parse_dates=True)\n",
    "ed_month.index.freq = 'MS'"
   ]
  },
  {
   "cell_type": "code",
   "execution_count": null,
   "metadata": {},
   "outputs": [],
   "source": [
    "ed_month.index.min()"
   ]
  },
  {
   "cell_type": "code",
   "execution_count": null,
   "metadata": {},
   "outputs": [],
   "source": [
    "ed_month.index.max()"
   ]
  },
  {
   "cell_type": "markdown",
   "metadata": {},
   "source": [
    "### Visualise the time series"
   ]
  },
  {
   "cell_type": "code",
   "execution_count": null,
   "metadata": {},
   "outputs": [],
   "source": [
    "ed_month.plot(figsize=(12,4))"
   ]
  },
  {
   "cell_type": "markdown",
   "metadata": {},
   "source": [
    "### Adjust the monthly data"
   ]
  },
  {
   "cell_type": "markdown",
   "metadata": {},
   "source": [
    "Remember that some of the noise you are seeing the time series is due to months having a different number of days.  This makes forecasting harder than it needs to be.  Adjusting the time series by dividing by the number of days per month removes that noise.  Note that units are now people per day."
   ]
  },
  {
   "cell_type": "code",
   "execution_count": null,
   "metadata": {},
   "outputs": [],
   "source": [
    "arrival_rate = ed_month['arrivals'] / ed_month.index.days_in_month"
   ]
  },
  {
   "cell_type": "code",
   "execution_count": null,
   "metadata": {},
   "outputs": [],
   "source": [
    "arrival_rate.plot(figsize=(12,4))"
   ]
  },
  {
   "cell_type": "markdown",
   "metadata": {},
   "source": [
    "## Mean Forecast\n",
    "\n",
    "One of the simpliest baseline's is to take the average of the historical observations and project that forward. i.e. \n",
    "\n",
    "**The *mean forecast = sum of historical observations / number of historical values*.**\n",
    "\n",
    "It is useful to write this in a slighly more compact mathematical form.\n",
    "\n",
    "If the historical observation at time 1 = $y_1$ and at time 2 = $y_2$ the the times series can be represented as a series of observations between 1 and T (the final observation) $y_1, y_2 ... y_T$\n",
    "\n",
    "The mean forecast given the historical observations $\\hat{y}_{T+h|y_1, y_2 ... y_T}$ is therefore\n",
    "\n",
    "$\\hat{y}_{T+h|T} = \\frac{\\sum_{t=1}^{T}y_t}{T}$\n",
    "\n",
    "PenCHORD has implemented some simple classes for baseline forecasts in a package called `forecast`.  \n",
    "\n",
    "For a mean forecast the class to use is\n",
    "\n",
    "```python\n",
    "forecast.baseline.Average\n",
    "```\n",
    "\n",
    "There are three steps to use it\n",
    "\n",
    "* Create an instance of the class\n",
    "* Call the `fit` method and pass in the historical data\n",
    "* Call the `predict` method and pass in a chosen forecast horizon e.g. 12 months. "
   ]
  },
  {
   "cell_type": "code",
   "execution_count": null,
   "metadata": {},
   "outputs": [],
   "source": [
    "#import the mean forecast class\n",
    "from forecast.baseline import Average"
   ]
  },
  {
   "cell_type": "code",
   "execution_count": null,
   "metadata": {},
   "outputs": [],
   "source": [
    "#create an instance of the average class\n",
    "avg = Average()"
   ]
  },
  {
   "cell_type": "code",
   "execution_count": null,
   "metadata": {},
   "outputs": [],
   "source": [
    "#fit the historical data\n",
    "avg.fit(arrival_rate)"
   ]
  },
  {
   "cell_type": "code",
   "execution_count": null,
   "metadata": {},
   "outputs": [],
   "source": [
    "#call the predict method, choosing a prediction horizon\n",
    "avg_preds = avg.predict(horizon=12)"
   ]
  },
  {
   "cell_type": "code",
   "execution_count": null,
   "metadata": {},
   "outputs": [],
   "source": [
    "#the method returns predictions as a numpy vector of length horizon.\n",
    "avg_preds"
   ]
  },
  {
   "cell_type": "markdown",
   "metadata": {},
   "source": [
    "Let's visualise the forecast relative to the training data.\n",
    "\n",
    "* Do you think this is a good baseline?"
   ]
  },
  {
   "cell_type": "code",
   "execution_count": null,
   "metadata": {},
   "outputs": [],
   "source": [
    "ax = arrival_rate.plot(figsize=(12,4))\n",
    "avg.fittedvalues.plot(ax=ax, linestyle='-.')\n",
    "preds_as_series(arrival_rate, avg_preds).plot(ax=ax)\n",
    "ax.legend(['train', 'mean forecast'])"
   ]
  },
  {
   "cell_type": "markdown",
   "metadata": {},
   "source": [
    "## Naive Forecast 1\n",
    "\n",
    "An alternative and popular baseline forecast is Naive Forecast 1.  This simply takes the last value in the time series and extrapolates it forward over the forecast horizon.  I.e.\n",
    "\n",
    "**Naive Forecast = Last value in the time series**\n",
    "\n",
    "In mathematical notation:\n",
    "\n",
    "$\\hat{y}_{T+h|T} =y_t$\n",
    "\n",
    "You can create a Naive1 forecast following the same steps as for the average forecast and using an object of type:\n",
    "```python\n",
    "forecast.baseline.Naive1\n",
    "```"
   ]
  },
  {
   "cell_type": "code",
   "execution_count": null,
   "metadata": {},
   "outputs": [],
   "source": [
    "from forecast.baseline import Naive1"
   ]
  },
  {
   "cell_type": "code",
   "execution_count": null,
   "metadata": {},
   "outputs": [],
   "source": [
    "nf1 = Naive1()\n",
    "nf1.fit(arrival_rate)\n",
    "nf1_preds = nf1.predict(horizon=12)"
   ]
  },
  {
   "cell_type": "code",
   "execution_count": null,
   "metadata": {},
   "outputs": [],
   "source": [
    "nf1_preds"
   ]
  },
  {
   "cell_type": "code",
   "execution_count": null,
   "metadata": {},
   "outputs": [],
   "source": [
    "ax = arrival_rate.plot(figsize=(12,4))\n",
    "nf1.fittedvalues.plot(ax=ax, linestyle='-.')\n",
    "preds_as_series(arrival_rate, nf1_preds).plot(ax=ax)\n",
    "ax.legend(['train', 'Naive1'])"
   ]
  },
  {
   "cell_type": "markdown",
   "metadata": {},
   "source": [
    "## Seasonal Naive\n",
    "\n",
    "Seasonal Naive extends Naive1 in an attempt to incorporate the seasonality in the data.  Instead of carrying the final value in the time series forward it carries forward the value from the previous time period.  As we are working with monthly data this means that a forecast for Janurary will use the previous Janurary's observation. A forecast for February will use the previous February's observation and so on."
   ]
  },
  {
   "cell_type": "code",
   "execution_count": null,
   "metadata": {},
   "outputs": [],
   "source": [
    "from forecast.baseline import SNaive"
   ]
  },
  {
   "cell_type": "code",
   "execution_count": null,
   "metadata": {},
   "outputs": [],
   "source": [
    "snf = SNaive(period=12)\n",
    "snf.fit(arrival_rate)\n",
    "snf_preds = snf.predict(horizon=12)"
   ]
  },
  {
   "cell_type": "code",
   "execution_count": null,
   "metadata": {},
   "outputs": [],
   "source": [
    "snf_preds"
   ]
  },
  {
   "cell_type": "code",
   "execution_count": null,
   "metadata": {},
   "outputs": [],
   "source": [
    "ax = arrival_rate.plot(figsize=(12,4))\n",
    "snf.fittedvalues.plot(ax=ax, linestyle='-.')\n",
    "preds_as_series(arrival_rate, snf_preds).plot(ax=ax)\n",
    "ax.legend(['train','Fitted Model', 'Drift Forecast'])"
   ]
  },
  {
   "cell_type": "markdown",
   "metadata": {},
   "source": [
    "## Drift Method\n",
    "\n",
    "So far the baseline methods have not considered an increasing or decreasing trend within the forecast.  A simple method to do this adjusting Naive1 to account for the average change in historical observations between the first period and the last.  This average change is called the **drift**.\n",
    "\n",
    "In words the method is equivalent to taking a ruler and drawing a line between the first and last value in the series.  To forecast you then extend that line into the future for $h$ periods.\n",
    "\n",
    "Mathematically a drift forecast is defined as:\n",
    "\n",
    "$\\hat{y}_{T+h|T} =y_t + h \\left(\\frac{y_T - y_1}{T - 1} \\right)$\n"
   ]
  },
  {
   "cell_type": "code",
   "execution_count": null,
   "metadata": {},
   "outputs": [],
   "source": [
    "from forecast.baseline import Drift"
   ]
  },
  {
   "cell_type": "code",
   "execution_count": null,
   "metadata": {},
   "outputs": [],
   "source": [
    "drf = Drift()\n",
    "drf.fit(arrival_rate)\n",
    "drf_preds = drf.predict(horizon=12)"
   ]
  },
  {
   "cell_type": "code",
   "execution_count": null,
   "metadata": {},
   "outputs": [],
   "source": [
    "drf_preds"
   ]
  },
  {
   "cell_type": "code",
   "execution_count": null,
   "metadata": {},
   "outputs": [],
   "source": [
    "ax = arrival_rate.plot(figsize=(12,4))\n",
    "drf.fittedvalues.plot(ax=ax, linestyle='-.')\n",
    "preds_as_series(arrival_rate, drf_preds).plot(ax=ax)\n",
    "ax.legend(['train','Fitted Model', 'Drift Forecast'])"
   ]
  }
 ],
 "metadata": {
  "kernelspec": {
   "display_name": "Python 3",
   "language": "python",
   "name": "python3"
  },
  "language_info": {
   "codemirror_mode": {
    "name": "ipython",
    "version": 3
   },
   "file_extension": ".py",
   "mimetype": "text/x-python",
   "name": "python",
   "nbconvert_exporter": "python",
   "pygments_lexer": "ipython3",
   "version": "3.7.3"
  }
 },
 "nbformat": 4,
 "nbformat_minor": 4
}
