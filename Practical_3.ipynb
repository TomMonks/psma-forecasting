{
 "cells": [
  {
   "cell_type": "markdown",
   "metadata": {},
   "source": [
    "# Exponential Smoothing Exercise"
   ]
  },
  {
   "cell_type": "code",
   "execution_count": null,
   "metadata": {},
   "outputs": [],
   "source": [
    "import pandas as pd\n",
    "import numpy as np\n",
    "from statsmodels.tsa.statespace.exponential_smoothing import ExponentialSmoothing\n",
    "from statsmodels.tsa.seasonal import STL"
   ]
  },
  {
   "cell_type": "code",
   "execution_count": null,
   "metadata": {},
   "outputs": [],
   "source": [
    "from forecast.baseline import Naive1"
   ]
  },
  {
   "cell_type": "code",
   "execution_count": null,
   "metadata": {},
   "outputs": [],
   "source": [
    "from sklearn.metrics import mean_absolute_error"
   ]
  },
  {
   "cell_type": "code",
   "execution_count": null,
   "metadata": {},
   "outputs": [],
   "source": [
    "import statsmodels as sm"
   ]
  },
  {
   "cell_type": "code",
   "execution_count": null,
   "metadata": {},
   "outputs": [],
   "source": [
    "#make sure you have version 0.11.x \n",
    "sm.__version__"
   ]
  },
  {
   "cell_type": "markdown",
   "metadata": {},
   "source": [
    "## Simple Exponential Smoothing\n",
    "\n",
    "### Step by Step Worked Example of using SES\n",
    "\n",
    "**Step 1.1. Read the data into a pandas DataFrame**\n",
    "\n",
    "The first thing we will do is read in the data from the file `Nile.csv`\n",
    "\n",
    "To do this we will call the method:\n",
    "\n",
    "```python \n",
    "pd.read_csv()\n",
    "```\n",
    "\n",
    " \n",
    "Remember that you need to pass in three keyword arguments.\n",
    "* filepath_or_buffer - e.g. is the directory/filename.csv\n",
    "* index_col - the name of the column that contains the date/time information\n",
    "* parse_dates = True\n",
    "\n"
   ]
  },
  {
   "cell_type": "code",
   "execution_count": null,
   "metadata": {},
   "outputs": [],
   "source": [
    "#your code here"
   ]
  },
  {
   "cell_type": "markdown",
   "metadata": {},
   "source": [
    "**Step 1.2: Set the frequency of the data**\n",
    "  \n",
    "When you read datetime data in from file it is always worth checking that pandas has set the frequency correctly.  Let's have a look this for the nile data."
   ]
  },
  {
   "cell_type": "code",
   "execution_count": null,
   "metadata": {},
   "outputs": [],
   "source": [
    "#your code here"
   ]
  },
  {
   "cell_type": "markdown",
   "metadata": {},
   "source": [
    "**Step 1.3. Train-Test Split**\n",
    "\n",
    "We are going to hold back the final 10 observations and attempt to predict them using SES.\n",
    "\n",
    "Conduct a train-test split where we hold back 10 observations for test."
   ]
  },
  {
   "cell_type": "code",
   "execution_count": null,
   "metadata": {},
   "outputs": [],
   "source": [
    "#your code here"
   ]
  },
  {
   "cell_type": "markdown",
   "metadata": {},
   "source": [
    "**Step 1.4. Visualise the data**\n",
    "\n",
    "**Plot the TRAINING set only**\n",
    "\n",
    "The easiest way to do this is to call the `.plot()` method of the `DataFrame`"
   ]
  },
  {
   "cell_type": "code",
   "execution_count": null,
   "metadata": {},
   "outputs": [],
   "source": [
    "#your code here"
   ]
  },
  {
   "cell_type": "markdown",
   "metadata": {},
   "source": [
    "**Step 1.6. Create a simple baseline model**\n",
    "\n",
    "It is unclear if there is a trend or seasonality in the nile time series.  This is also annual data which does not offer an obvious period for seasonality like monthly or quarterly data.  Before we use SES it is a good idea to use a Naive Forecast to set a baseline.  We will follow this up with use Simple Exponential Smoothing as that is suitable for data without trend or seasonality\n",
    "\n",
    "* Using Naive1 forecast 10 years ahead.\n",
    "* Plot the forecast and prediction intervals."
   ]
  },
  {
   "cell_type": "code",
   "execution_count": null,
   "metadata": {},
   "outputs": [],
   "source": [
    "#your code here"
   ]
  },
  {
   "cell_type": "markdown",
   "metadata": {},
   "source": [
    "**Step 1.6. Create an instance of an `ExponentialSmoothing` object for SES**\n",
    "\n",
    "We will now use Simple Exponential Smoothing.\n",
    "\n",
    "Create an instance of the ExponentialSmoothing class and pass in the training data."
   ]
  },
  {
   "cell_type": "code",
   "execution_count": null,
   "metadata": {},
   "outputs": [],
   "source": [
    "#your code here"
   ]
  },
  {
   "cell_type": "markdown",
   "metadata": {},
   "source": [
    "**Step 1.7. Fit the model to the training data**\n",
    "\n",
    "Before we can forecast, we first need to fit the model to the data in order to estimate the smoothing parameter $\\alpha$.  To do this you need to call the `.fit()` method of the model."
   ]
  },
  {
   "cell_type": "code",
   "execution_count": null,
   "metadata": {},
   "outputs": [],
   "source": [
    "#your code here"
   ]
  },
  {
   "cell_type": "markdown",
   "metadata": {},
   "source": [
    "**Step 1.8. Forecast!**\n",
    "\n",
    "With an `ExponentialSmoothing` object for SES you need to call two methods to get the forecast and prediction intervals.\n"
   ]
  },
  {
   "cell_type": "code",
   "execution_count": null,
   "metadata": {},
   "outputs": [],
   "source": [
    "#your code here"
   ]
  },
  {
   "cell_type": "markdown",
   "metadata": {},
   "source": [
    "**Step 1.9. Plot the forecast**\n",
    "\n",
    "The matplotlib code to plot the forecast has been provided for you. "
   ]
  },
  {
   "cell_type": "code",
   "execution_count": null,
   "metadata": {},
   "outputs": [],
   "source": [
    "#your code here"
   ]
  },
  {
   "cell_type": "markdown",
   "metadata": {},
   "source": [
    "**Step 1.10 Evaluate forecast accuracy**\n",
    "\n",
    "The first thing to do is to compare the Mean Absolute Error of the Naive forecast and SES"
   ]
  },
  {
   "cell_type": "code",
   "execution_count": null,
   "metadata": {},
   "outputs": [],
   "source": [
    "#your code here"
   ]
  },
  {
   "cell_type": "markdown",
   "metadata": {},
   "source": [
    "**Step 1.11 Plot the prediction intervals**"
   ]
  },
  {
   "cell_type": "markdown",
   "metadata": {},
   "source": [
    "For point forecasts there is little difference between the two models.\n",
    "\n",
    "What about prediction intervals?  Let's judge that visually by plotting them side by side."
   ]
  },
  {
   "cell_type": "code",
   "execution_count": null,
   "metadata": {},
   "outputs": [],
   "source": [
    "#your code here"
   ]
  },
  {
   "cell_type": "markdown",
   "metadata": {},
   "source": [
    "**Important questions to think about on your own**\n",
    "* What do you think of the forecasts of the two methods? Which method would you choose?\n",
    "* Which model was most uncertain in its predictions? How could you tell?\n",
    "* Which model had the most useful prediction intervals?\n",
    "* Are there any issues with the prediction intervals of your chosen model?  What would make them more useful?"
   ]
  }
 ],
 "metadata": {
  "kernelspec": {
   "display_name": "Python 3",
   "language": "python",
   "name": "python3"
  },
  "language_info": {
   "codemirror_mode": {
    "name": "ipython",
    "version": 3
   },
   "file_extension": ".py",
   "mimetype": "text/x-python",
   "name": "python",
   "nbconvert_exporter": "python",
   "pygments_lexer": "ipython3",
   "version": "3.7.3"
  }
 },
 "nbformat": 4,
 "nbformat_minor": 4
}
